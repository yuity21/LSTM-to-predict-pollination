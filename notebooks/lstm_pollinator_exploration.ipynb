{
 "cells": [
  {
   "cell_type": "markdown",
   "metadata": {},
   "source": [
    "# 🐝 LSTM Pollinator Activity – Data Exploration Notebook\n",
    "\n",
    "Ce notebook permet d'explorer les données préparées pour l'entraînement du LSTM :\n",
    "- Vérification des dimensions de X et y\n",
    "- Répartition des classes `activity_score`\n",
    "- Exemple de séquence d'entrée"
   ]
  },
  {
   "cell_type": "code",
   "execution_count": null,
   "metadata": {},
   "outputs": [],
   "source": [
    "# Imports\n",
    "import numpy as np\n",
    "import matplotlib.pyplot as plt\n",
    "import seaborn as sns\n",
    "\n",
    "import os"
   ]
  },
  {
   "cell_type": "code",
   "execution_count": null,
   "metadata": {},
   "outputs": [],
   "source": [
    "# Charger les données\n",
    "culture = \"colza\"  # On peux changer ici : \"tournesol\", \"lavande\", \"pommiers\"\n",
    "data_dir = \"lstm_datasets\"\n",
    "\n",
    "X = np.load(os.path.join(data_dir, f\"X_{culture}.npy\"))\n",
    "y = np.load(os.path.join(data_dir, f\"y_{culture}.npy\"))\n",
    "\n",
    "print(f\"Données chargées pour '{culture}'\")\n",
    "print(f\"X shape: {X.shape}  |  y shape: {y.shape}\")"
   ]
  },
  {
   "cell_type": "code",
   "execution_count": null,
   "metadata": {},
   "outputs": [],
   "source": [
    "# Répartition des classes\n",
    "sns.set(style=\"whitegrid\")\n",
    "plt.figure(figsize=(6,4))\n",
    "sns.countplot(x=y, palette=\"viridis\")\n",
    "plt.title(f\"Répartition des scores d'activité - {culture}\")\n",
    "plt.xlabel(\"Classe (0 = basse, 1 = moyenne, 2 = haute)\")\n",
    "plt.ylabel(\"Nombre de séquences\")\n",
    "plt.show()"
   ]
  },
  {
   "cell_type": "code",
   "execution_count": null,
   "metadata": {},
   "outputs": [],
   "source": [
    "# Exemple de séquence d'entrée\n",
    "i = 0  # changer ce chiffre pour voir une autre séquence\n",
    "sequence = X[i]\n",
    "print(f\"Label associé (y[i]) = {y[i]}\")\n",
    "\n",
    "plt.figure(figsize=(10,4))\n",
    "for f in range(sequence.shape[1]):\n",
    "    plt.plot(sequence[:, f], label=f\"Feature {f}\")\n",
    "\n",
    "plt.title(f\"Séquence météo + floraison n°{i} (culture : {culture})\")\n",
    "plt.xlabel(\"Jour\")\n",
    "plt.legend()\n",
    "plt.show()"
   ]
  }
 ],
 "metadata": {
  "kernelspec": {
   "display_name": "Python 3",
   "language": "python",
   "name": "python3"
  },
  "language_info": {
   "name": "python",
   "version": ""
  }
 },
 "nbformat": 4,
 "nbformat_minor": 2
}
